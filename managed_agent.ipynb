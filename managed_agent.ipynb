{
 "cells": [
  {
   "cell_type": "code",
   "execution_count": null,
   "id": "88eccfb3",
   "metadata": {},
   "outputs": [],
   "source": [
    "from agents import manager_agent\n"
   ]
  },
  {
   "cell_type": "code",
   "execution_count": null,
   "id": "4f37caee",
   "metadata": {},
   "outputs": [],
   "source": [
    "manager_agent.visualize()"
   ]
  },
  {
   "cell_type": "code",
   "execution_count": null,
   "id": "e1925d1f",
   "metadata": {},
   "outputs": [],
   "source": [
    "from PIL import Image\n",
    "import requests\n",
    "from io import BytesIO\n",
    "\n",
    "images = \n",
    "\n",
    "\n",
    "manager_agent.run(\"How many bird species are in this picture?\", images=converted_img)"
   ]
  },
  {
   "cell_type": "code",
   "execution_count": null,
   "id": "db981fff",
   "metadata": {},
   "outputs": [],
   "source": [
    "from smolagents import LiteLLMModel\n",
    "image_model_name = 'gemma3:12b'\n",
    "image_model = LiteLLMModel(model_id=f'ollama_chat/{image_model_name}')\n",
    "\n"
   ]
  },
  {
   "cell_type": "code",
   "execution_count": null,
   "id": "51a53c63",
   "metadata": {},
   "outputs": [],
   "source": [
    "result = manager_agent.run(\"How many r's are in the word Strawberry?\")\n"
   ]
  },
  {
   "cell_type": "code",
   "execution_count": null,
   "id": "cf393e32",
   "metadata": {},
   "outputs": [],
   "source": [
    "print(result)"
   ]
  }
 ],
 "metadata": {
  "kernelspec": {
   "display_name": ".venv (3.12.6)",
   "language": "python",
   "name": "python3"
  },
  "language_info": {
   "codemirror_mode": {
    "name": "ipython",
    "version": 3
   },
   "file_extension": ".py",
   "mimetype": "text/x-python",
   "name": "python",
   "nbconvert_exporter": "python",
   "pygments_lexer": "ipython3",
   "version": "3.12.6"
  }
 },
 "nbformat": 4,
 "nbformat_minor": 5
}
