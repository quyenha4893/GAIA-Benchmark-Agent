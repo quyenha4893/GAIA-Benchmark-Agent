{
 "cells": [
  {
   "cell_type": "markdown",
   "id": "674fa1cc",
   "metadata": {},
   "source": [
    "# Testing Agent Components\n",
    "\n",
    "I used this notebook to test different tools and components.  "
   ]
  },
  {
   "cell_type": "code",
   "execution_count": null,
   "id": "88eccfb3",
   "metadata": {},
   "outputs": [],
   "source": [
    "from agents import manager_agent\n",
    "manager_agent.visualize()"
   ]
  },
  {
   "cell_type": "code",
   "execution_count": null,
   "id": "e1925d1f",
   "metadata": {},
   "outputs": [],
   "source": [
    "from PIL import Image\n",
    "\n",
    "# Path to image file\n",
    "picture_path = './bird_image.png'\n",
    "\n",
    "# List to hold images\n",
    "images = []\n",
    "\n",
    "# Open image from path\n",
    "image = Image.open(picture_path)\n",
    "\n",
    "# Ensure the image is loaded properly and append it to the list of images\n",
    "if image:\n",
    "    images.append(image.convert('RGB'))\n",
    "\n",
    "#manager_agent.run(\"How many bird species are in this image?\", images=images)\n",
    "manager_agent.run(\"In the video https://www.youtube.com/watch?v=L1vXCYZAYYM, what is the highest number of bird species to be on camera simultaneously?\")"
   ]
  },
  {
   "cell_type": "code",
   "execution_count": null,
   "id": "1c904403",
   "metadata": {},
   "outputs": [],
   "source": [
    "manager_agent.run('How many studio albums were published by Mercedes Sosa between 2000 and 2009 (included)? You can use the latest 2022 version of english wikipedia.')"
   ]
  },
  {
   "cell_type": "code",
   "execution_count": null,
   "id": "51a53c63",
   "metadata": {},
   "outputs": [],
   "source": [
    "manager_agent.run(\"How many r's are in the word Strawberry?\")\n"
   ]
  },
  {
   "cell_type": "code",
   "execution_count": null,
   "id": "d45cd981",
   "metadata": {},
   "outputs": [],
   "source": [
    "from tools.tools import youtube_frames_to_images\n",
    "results = youtube_frames_to_images('https://youtube.com/watch?v=L1vXCYZAYYM')"
   ]
  },
  {
   "cell_type": "code",
   "execution_count": null,
   "id": "9d806dfe",
   "metadata": {},
   "outputs": [],
   "source": [
    "from tools.tools import youtube_transcribe\n",
    "results = youtube_transcribe('https://www.youtube.com/watch?v=1htKBjuUWec')\n",
    "print(results)"
   ]
  },
  {
   "cell_type": "code",
   "execution_count": null,
   "id": "b87ee5e6",
   "metadata": {},
   "outputs": [],
   "source": [
    "from PIL import Image\n",
    "\n",
    "# Path to image file\n",
    "picture_path = './bird_image.png'\n",
    "\n",
    "# List to hold images\n",
    "images = []\n",
    "\n",
    "# Open image from path\n",
    "image = Image.open(picture_path)\n",
    "\n",
    "# Ensure the image is loaded properly and append it to the list of images\n",
    "if image:\n",
    "    images.append(image.convert('RGB'))\n",
    "\n",
    "from tools.tools import use_vision_model\n",
    "\n",
    "query = \"How many bird species are in this picture?\"\n",
    "\n",
    "tool_input = {\n",
    "    \"question\": query,\n",
    "    \"images\": images\n",
    "}\n",
    "\n",
    "use_vision_model(**tool_input)"
   ]
  }
 ],
 "metadata": {
  "kernelspec": {
   "display_name": ".venv (3.12.6)",
   "language": "python",
   "name": "python3"
  },
  "language_info": {
   "codemirror_mode": {
    "name": "ipython",
    "version": 3
   },
   "file_extension": ".py",
   "mimetype": "text/x-python",
   "name": "python",
   "nbconvert_exporter": "python",
   "pygments_lexer": "ipython3",
   "version": "3.12.6"
  }
 },
 "nbformat": 4,
 "nbformat_minor": 5
}
